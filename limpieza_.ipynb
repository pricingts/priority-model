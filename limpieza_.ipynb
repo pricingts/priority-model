{
 "cells": [
  {
   "cell_type": "code",
   "execution_count": 85,
   "id": "28c00487",
   "metadata": {},
   "outputs": [],
   "source": [
    "import pandas as pd"
   ]
  },
  {
   "cell_type": "code",
   "execution_count": 86,
   "id": "d5285651",
   "metadata": {},
   "outputs": [],
   "source": [
    "clients = pd.read_excel('data/top_clients.xlsx', sheet_name=1)\n",
    "base = pd.read_csv('Duracion Envio Solicitudes - clientes.csv')"
   ]
  },
  {
   "cell_type": "code",
   "execution_count": 87,
   "id": "7e383178",
   "metadata": {},
   "outputs": [
    {
     "data": {
      "text/html": [
       "<div>\n",
       "<style scoped>\n",
       "    .dataframe tbody tr th:only-of-type {\n",
       "        vertical-align: middle;\n",
       "    }\n",
       "\n",
       "    .dataframe tbody tr th {\n",
       "        vertical-align: top;\n",
       "    }\n",
       "\n",
       "    .dataframe thead th {\n",
       "        text-align: right;\n",
       "    }\n",
       "</style>\n",
       "<table border=\"1\" class=\"dataframe\">\n",
       "  <thead>\n",
       "    <tr style=\"text-align: right;\">\n",
       "      <th></th>\n",
       "      <th>CLIENTE</th>\n",
       "      <th>COMERCIAL</th>\n",
       "    </tr>\n",
       "  </thead>\n",
       "  <tbody>\n",
       "    <tr>\n",
       "      <th>0</th>\n",
       "      <td>FCM SA</td>\n",
       "      <td>TEFY</td>\n",
       "    </tr>\n",
       "    <tr>\n",
       "      <th>1</th>\n",
       "      <td>C.I. GLOBALCARIBE INTERNACIONAL SAS</td>\n",
       "      <td>SHARON</td>\n",
       "    </tr>\n",
       "    <tr>\n",
       "      <th>2</th>\n",
       "      <td>GOZ IMPORT AND EXPORT SAS</td>\n",
       "      <td>SHARON</td>\n",
       "    </tr>\n",
       "    <tr>\n",
       "      <th>3</th>\n",
       "      <td>CUATRO VIENTOS CAFÉ LLC</td>\n",
       "      <td>GABO</td>\n",
       "    </tr>\n",
       "    <tr>\n",
       "      <th>4</th>\n",
       "      <td>KOMERCADO SAS</td>\n",
       "      <td>ANDRES</td>\n",
       "    </tr>\n",
       "  </tbody>\n",
       "</table>\n",
       "</div>"
      ],
      "text/plain": [
       "                              CLIENTE  COMERCIAL\n",
       "0                               FCM SA      TEFY\n",
       "1  C.I. GLOBALCARIBE INTERNACIONAL SAS    SHARON\n",
       "2            GOZ IMPORT AND EXPORT SAS    SHARON\n",
       "3              CUATRO VIENTOS CAFÉ LLC      GABO\n",
       "4                        KOMERCADO SAS    ANDRES"
      ]
     },
     "execution_count": 87,
     "metadata": {},
     "output_type": "execute_result"
    }
   ],
   "source": [
    "clients.head()"
   ]
  },
  {
   "cell_type": "code",
   "execution_count": 88,
   "id": "340b7fcd",
   "metadata": {},
   "outputs": [],
   "source": [
    "# import pandas as pd\n",
    "# import re\n",
    "# from unidecode import unidecode\n",
    "# from rapidfuzz import process, fuzz\n",
    "\n",
    "# def clean_name(s: str) -> str:\n",
    "#     s = unidecode(str(s))\n",
    "#     s = s.lower().strip()\n",
    "#     s = re.sub(r'[^a-z0-9\\s]', '', s)\n",
    "#     return re.sub(r'\\s+', ' ', s)\n",
    "\n",
    "# def enforce_top_clients_match(\n",
    "#     df_top: pd.DataFrame,\n",
    "#     df_db: pd.DataFrame,\n",
    "#     top_key: str = 'cliente',\n",
    "#     db_key: str = 'cliente',\n",
    "#     threshold: int = 90\n",
    "# ) -> pd.DataFrame:\n",
    "#     \"\"\"\n",
    "#     1. Limpia nombres en ambas tablas.\n",
    "#     2. Merge exacto → marca los que empatan.\n",
    "#     3. Para los no-empates, busca el mejor fuzzy match.\n",
    "#     4. Si alguno queda con score < threshold, levanta ValueError.\n",
    "#     5. Devuelve df_top con una columna 'official_name' mapeada de la DB.\n",
    "#     \"\"\"\n",
    "#     # 1) Claves limpias\n",
    "#     df_top = df_top.copy()\n",
    "#     df_db  = df_db.copy()\n",
    "#     df_top['_key'] = df_top[top_key].map(clean_name)\n",
    "#     df_db['_key']  = df_db[db_key].map(clean_name)\n",
    "\n",
    "#     # 2) Exact match\n",
    "#     merged = df_top.merge(\n",
    "#         df_db[['_key', db_key]],\n",
    "#         on='_key', how='left', suffixes=('', '_db'),\n",
    "#         indicator=True\n",
    "#     )\n",
    "#     # Aquellos que empatan exacto usan el nombre de DB\n",
    "#     merged['official_name'] = merged.loc[merged['_merge']=='both', db_key]\n",
    "\n",
    "#     # 3) Fuzzy sólo para los left_only\n",
    "#     no_match = merged[merged['_merge']=='left_only']\n",
    "#     if not no_match.empty:\n",
    "#         choices = df_db['_key'].tolist()\n",
    "#         # obtiene mejor match y score\n",
    "#         def find_best(key):\n",
    "#             m, score, _ = process.extractOne(key, choices, scorer=fuzz.WRatio)\n",
    "#             # return m, score\n",
    "\n",
    "#         suggestions = no_match['_key'].map(find_best)\n",
    "#         no_match[['suggested_key','score']] = pd.DataFrame(suggestions.tolist(), index=no_match.index)\n",
    "#         no_match = no_match.merge(\n",
    "#             df_db[['_key', db_key]],\n",
    "#             left_on='suggested_key', right_on='_key',\n",
    "#             how='left',\n",
    "#             suffixes=('','_db2')\n",
    "#         )\n",
    "#         # 4) falla si algún score < threshold\n",
    "#         low_conf = no_match[no_match['score'] < threshold]\n",
    "#         if not low_conf.empty:\n",
    "#             bad = low_conf[top_key].tolist()\n",
    "#             raise ValueError(\n",
    "#                 f\"Los siguientes clientes no alcanzan un match confiable (score < {threshold}):\\n\"\n",
    "#                 + \"\\n\".join(f\"- {c}\" for c in bad)\n",
    "#             )\n",
    "#         # Asigna la sugerencia para los demás\n",
    "#         merged.loc[no_match.index, 'official_name'] = no_match[f'{db_key}_db2']\n",
    "\n",
    "#     # 5) Verificación final\n",
    "#     if merged['official_name'].isna().any():\n",
    "#         faltan = merged[merged['official_name'].isna()][top_key].tolist()\n",
    "#         raise RuntimeError(f\"Quedaron sin match estas filas: {faltan}\")\n",
    "\n",
    "#     return merged.drop(columns=['_key','_merge','suggested_key','score'])\n",
    "\n",
    "# # — Ejemplo de uso —\n",
    "# clients = pd.read_excel('data/top_clients.xlsx')\n",
    "# base = pd.read_csv('Duracion Envio Solicitudes - clientes.csv')\n",
    "# clients.columns = clients.columns.str.strip().str.lower()\n",
    "# base   .columns = base  .columns.str.strip().str.lower()\n",
    "# df_validado = enforce_top_clients_match(clients, base, threshold=90)\n",
    "# # Ahora df_validado['official_name'] alinea 1:1 con tu base de datos.\n"
   ]
  },
  {
   "cell_type": "code",
   "execution_count": 89,
   "id": "7b8ff0fd",
   "metadata": {},
   "outputs": [
    {
     "data": {
      "text/plain": [
       "array(['TEFY', 'SHARON', 'GABO', 'ANDRES', 'CALVIN', 'PEDRO', 'IRINA',\n",
       "       'FELIPE', 'NEGRO', 'FARAH', 'ELIA', 'RENE', 'JAIME', 'TILCIA'],\n",
       "      dtype=object)"
      ]
     },
     "execution_count": 89,
     "metadata": {},
     "output_type": "execute_result"
    }
   ],
   "source": [
    "clients.columns = clients.columns.str.strip().str.lower()\n",
    "clients['comercial'].unique()"
   ]
  },
  {
   "cell_type": "code",
   "execution_count": 90,
   "id": "9ff65363",
   "metadata": {},
   "outputs": [
    {
     "name": "stdout",
     "output_type": "stream",
     "text": [
      "['Stephanie Bruges' 'Sharon Zuñiga' 'Comercial Generico'\n",
      " 'Andrés Consuegra' 'Ivan Zuluaga' 'Pedro Luis Bruges' 'Irina Paternina'\n",
      " 'Felipe Hoyos' 'Jorge Sánchez' 'Johnny Farah' 'Jaime Ahumada']\n"
     ]
    }
   ],
   "source": [
    "comercial_map = {\n",
    "    'TEFY': 'Stephanie Bruges',\n",
    "    'PEDRO': 'Pedro Luis Bruges',\n",
    "    'SHARON': 'Sharon Zuñiga',\n",
    "    'FARAH': 'Johnny Farah',\n",
    "    'ANDRES': 'Andrés Consuegra',\n",
    "    'GABO': 'Comercial Generico',\n",
    "    'CALVIN': 'Ivan Zuluaga',\n",
    "    'NEGRO': 'Jorge Sánchez',\n",
    "    'IRINA': 'Irina Paternina',\n",
    "    'ELIA': 'Comercial Generico',\n",
    "    'FELIPE': 'Felipe Hoyos',\n",
    "    'TILCIA': 'Comercial Generico',\n",
    "    'RENE': 'Comercial Generico',\n",
    "    'JAIME': 'Jaime Ahumada',\n",
    "}\n",
    "\n",
    "# 3) Aplica el mapeo; los que no estén en el dict quedan igual\n",
    "clients['comercial'] = clients['comercial'].map(comercial_map) \\\n",
    "                             .fillna(clients['comercial'])\n",
    "\n",
    "print(clients['comercial'].unique())"
   ]
  },
  {
   "cell_type": "code",
   "execution_count": 91,
   "id": "0ae7a00e",
   "metadata": {},
   "outputs": [
    {
     "data": {
      "text/html": [
       "<div>\n",
       "<style scoped>\n",
       "    .dataframe tbody tr th:only-of-type {\n",
       "        vertical-align: middle;\n",
       "    }\n",
       "\n",
       "    .dataframe tbody tr th {\n",
       "        vertical-align: top;\n",
       "    }\n",
       "\n",
       "    .dataframe thead th {\n",
       "        text-align: right;\n",
       "    }\n",
       "</style>\n",
       "<table border=\"1\" class=\"dataframe\">\n",
       "  <thead>\n",
       "    <tr style=\"text-align: right;\">\n",
       "      <th></th>\n",
       "      <th>cliente</th>\n",
       "      <th>comercial</th>\n",
       "    </tr>\n",
       "  </thead>\n",
       "  <tbody>\n",
       "    <tr>\n",
       "      <th>0</th>\n",
       "      <td>FCM SA</td>\n",
       "      <td>Stephanie Bruges</td>\n",
       "    </tr>\n",
       "    <tr>\n",
       "      <th>1</th>\n",
       "      <td>C.I. GLOBALCARIBE INTERNACIONAL SAS</td>\n",
       "      <td>Sharon Zuñiga</td>\n",
       "    </tr>\n",
       "    <tr>\n",
       "      <th>2</th>\n",
       "      <td>GOZ IMPORT AND EXPORT SAS</td>\n",
       "      <td>Sharon Zuñiga</td>\n",
       "    </tr>\n",
       "    <tr>\n",
       "      <th>3</th>\n",
       "      <td>CUATRO VIENTOS CAFÉ LLC</td>\n",
       "      <td>Comercial Generico</td>\n",
       "    </tr>\n",
       "    <tr>\n",
       "      <th>4</th>\n",
       "      <td>KOMERCADO SAS</td>\n",
       "      <td>Andrés Consuegra</td>\n",
       "    </tr>\n",
       "  </tbody>\n",
       "</table>\n",
       "</div>"
      ],
      "text/plain": [
       "                               cliente           comercial\n",
       "0                               FCM SA    Stephanie Bruges\n",
       "1  C.I. GLOBALCARIBE INTERNACIONAL SAS       Sharon Zuñiga\n",
       "2            GOZ IMPORT AND EXPORT SAS       Sharon Zuñiga\n",
       "3              CUATRO VIENTOS CAFÉ LLC  Comercial Generico\n",
       "4                        KOMERCADO SAS    Andrés Consuegra"
      ]
     },
     "execution_count": 91,
     "metadata": {},
     "output_type": "execute_result"
    }
   ],
   "source": [
    "clients.head()"
   ]
  },
  {
   "cell_type": "code",
   "execution_count": 92,
   "id": "e260a6fa",
   "metadata": {},
   "outputs": [],
   "source": [
    "clients = clients.reset_index(drop=True) \n",
    "clients.insert(\n",
    "    1,                                           \n",
    "    'ranking',                                       \n",
    "    range(1, len(clients) + 1)                 \n",
    ")"
   ]
  },
  {
   "cell_type": "code",
   "execution_count": 93,
   "id": "e46512e3",
   "metadata": {},
   "outputs": [],
   "source": [
    "nuevo_orden = ['ranking', 'cliente', 'comercial']\n",
    "\n",
    "clients = clients[nuevo_orden]\n"
   ]
  },
  {
   "cell_type": "code",
   "execution_count": 94,
   "id": "229b4a32",
   "metadata": {},
   "outputs": [
    {
     "data": {
      "text/html": [
       "<div>\n",
       "<style scoped>\n",
       "    .dataframe tbody tr th:only-of-type {\n",
       "        vertical-align: middle;\n",
       "    }\n",
       "\n",
       "    .dataframe tbody tr th {\n",
       "        vertical-align: top;\n",
       "    }\n",
       "\n",
       "    .dataframe thead th {\n",
       "        text-align: right;\n",
       "    }\n",
       "</style>\n",
       "<table border=\"1\" class=\"dataframe\">\n",
       "  <thead>\n",
       "    <tr style=\"text-align: right;\">\n",
       "      <th></th>\n",
       "      <th>ranking</th>\n",
       "      <th>cliente</th>\n",
       "      <th>comercial</th>\n",
       "    </tr>\n",
       "  </thead>\n",
       "  <tbody>\n",
       "    <tr>\n",
       "      <th>0</th>\n",
       "      <td>1</td>\n",
       "      <td>FCM SA</td>\n",
       "      <td>Stephanie Bruges</td>\n",
       "    </tr>\n",
       "    <tr>\n",
       "      <th>1</th>\n",
       "      <td>2</td>\n",
       "      <td>C.I. GLOBALCARIBE INTERNACIONAL SAS</td>\n",
       "      <td>Sharon Zuñiga</td>\n",
       "    </tr>\n",
       "    <tr>\n",
       "      <th>2</th>\n",
       "      <td>3</td>\n",
       "      <td>GOZ IMPORT AND EXPORT SAS</td>\n",
       "      <td>Sharon Zuñiga</td>\n",
       "    </tr>\n",
       "    <tr>\n",
       "      <th>3</th>\n",
       "      <td>4</td>\n",
       "      <td>CUATRO VIENTOS CAFÉ LLC</td>\n",
       "      <td>Comercial Generico</td>\n",
       "    </tr>\n",
       "    <tr>\n",
       "      <th>4</th>\n",
       "      <td>5</td>\n",
       "      <td>KOMERCADO SAS</td>\n",
       "      <td>Andrés Consuegra</td>\n",
       "    </tr>\n",
       "  </tbody>\n",
       "</table>\n",
       "</div>"
      ],
      "text/plain": [
       "   ranking                              cliente           comercial\n",
       "0        1                               FCM SA    Stephanie Bruges\n",
       "1        2  C.I. GLOBALCARIBE INTERNACIONAL SAS       Sharon Zuñiga\n",
       "2        3            GOZ IMPORT AND EXPORT SAS       Sharon Zuñiga\n",
       "3        4              CUATRO VIENTOS CAFÉ LLC  Comercial Generico\n",
       "4        5                        KOMERCADO SAS    Andrés Consuegra"
      ]
     },
     "execution_count": 94,
     "metadata": {},
     "output_type": "execute_result"
    }
   ],
   "source": [
    "clients.head()"
   ]
  },
  {
   "cell_type": "code",
   "execution_count": 97,
   "id": "975d2697",
   "metadata": {},
   "outputs": [],
   "source": [
    "clients.to_excel('data/top_clientes.xlsx', index=False)"
   ]
  }
 ],
 "metadata": {
  "kernelspec": {
   "display_name": "priority",
   "language": "python",
   "name": "python3"
  },
  "language_info": {
   "codemirror_mode": {
    "name": "ipython",
    "version": 3
   },
   "file_extension": ".py",
   "mimetype": "text/x-python",
   "name": "python",
   "nbconvert_exporter": "python",
   "pygments_lexer": "ipython3",
   "version": "3.13.2"
  }
 },
 "nbformat": 4,
 "nbformat_minor": 5
}
